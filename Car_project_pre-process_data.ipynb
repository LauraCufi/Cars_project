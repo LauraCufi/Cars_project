{
 "cells": [
  {
   "cell_type": "markdown",
   "id": "489bcf83-3361-433d-8715-4458543bb28e",
   "metadata": {},
   "source": [
    "<div>\n",
    "    <h1>Cars Project data processing</h1>\n",
    "    <div>This project corresponds to pre-process the data (study duplicates, missing values, try to restore the missing values) and some exploratory   data analysis of the cars dealer data frame, in order to develop a web application and deploy it in Render</div>\n",
    "</div>"
   ]
  },
  {
   "cell_type": "code",
   "execution_count": 1,
   "id": "148c5e53-5fed-4d0d-aad3-3bfc99a4e574",
   "metadata": {},
   "outputs": [],
   "source": [
    "from scipy import stats as st\n",
    "import numpy as np\n",
    "import pandas as pd\n",
    "from matplotlib import pyplot as plt"
   ]
  },
  {
   "cell_type": "code",
   "execution_count": 2,
   "id": "31a19327-c11f-4977-817f-d0d00b10b71e",
   "metadata": {},
   "outputs": [
    {
     "name": "stdout",
     "output_type": "stream",
     "text": [
      "<class 'pandas.core.frame.DataFrame'>\n",
      "RangeIndex: 51525 entries, 0 to 51524\n",
      "Data columns (total 13 columns):\n",
      " #   Column        Non-Null Count  Dtype  \n",
      "---  ------        --------------  -----  \n",
      " 0   price         51525 non-null  int64  \n",
      " 1   model_year    47906 non-null  float64\n",
      " 2   model         51525 non-null  object \n",
      " 3   condition     51525 non-null  object \n",
      " 4   cylinders     46265 non-null  float64\n",
      " 5   fuel          51525 non-null  object \n",
      " 6   odometer      43633 non-null  float64\n",
      " 7   transmission  51525 non-null  object \n",
      " 8   type          51525 non-null  object \n",
      " 9   paint_color   42258 non-null  object \n",
      " 10  is_4wd        25572 non-null  float64\n",
      " 11  date_posted   51525 non-null  object \n",
      " 12  days_listed   51525 non-null  int64  \n",
      "dtypes: float64(4), int64(2), object(7)\n",
      "memory usage: 5.1+ MB\n"
     ]
    }
   ],
   "source": [
    "df = pd.read_csv(\"C://Users/laura/vehicles_us.csv\")\n",
    "df.info()"
   ]
  },
  {
   "cell_type": "markdown",
   "id": "1be4b8fb-eb56-4459-b920-d50551145af1",
   "metadata": {},
   "source": [
    "\n",
    "<div class=\"alert alert-info\">\n",
    "<div>When reading the dataframe, a document with 13 columns and 51525 entries is found. The columns correspond to the information of each of the vehicles available in the car store and include the following data: the price of the vehicle, the year, the model, the vehicle code, the number of cylinders, the type of fuel used. used, the odometer, the type of transmission, the type of vehicle, the color of the exterior paint, the day it was published for sale and the number of days it has been on sale.</div>"
   ]
  },
  {
   "cell_type": "code",
   "execution_count": 3,
   "id": "f9f7fb1e-0beb-4dc6-8f85-6b07d558a53f",
   "metadata": {},
   "outputs": [
    {
     "name": "stdout",
     "output_type": "stream",
     "text": [
      "price               0\n",
      "model_year       3619\n",
      "model               0\n",
      "condition           0\n",
      "cylinders        5260\n",
      "fuel                0\n",
      "odometer         7892\n",
      "transmission        0\n",
      "type                0\n",
      "paint_color      9267\n",
      "is_4wd          25953\n",
      "date_posted         0\n",
      "days_listed         0\n",
      "dtype: int64\n"
     ]
    }
   ],
   "source": [
    "print(df.isna().sum())"
   ]
  },
  {
   "cell_type": "markdown",
   "id": "1327717d-68a1-4f12-9119-cb10cd436758",
   "metadata": {},
   "source": [
    "<div class=\"alert alert-info\">\n",
    "<div>When searching for missing values ​​in each of the columns, the following were found: 3619 missing values ​​in the model year corresponding to 7%, 5260 missing values ​​in the number of cylinders corresponding to 10%, 7892 missing values ​​in the odometer corresponding to 15%. , 9267 missing values ​​in the paint information corresponding to 17% and 25953, in is_4wd corresponding to 50%</div>\n"
   ]
  },
  {
   "cell_type": "code",
   "execution_count": 50,
   "id": "ec4655e7-0949-4a92-a418-da0b657d889f",
   "metadata": {},
   "outputs": [
    {
     "name": "stdout",
     "output_type": "stream",
     "text": [
      "2009.75046966977\n",
      "price           0\n",
      "model_year      0\n",
      "model           0\n",
      "condition       0\n",
      "cylinders       0\n",
      "fuel            0\n",
      "odometer        0\n",
      "transmission    0\n",
      "type            0\n",
      "paint_color     0\n",
      "is_4wd          0\n",
      "date_posted     0\n",
      "days_listed     0\n",
      "dtype: int64\n"
     ]
    }
   ],
   "source": [
    "model_year_mean=df['model_year'].mean()\n",
    "df['model_year']=df['model_year'].fillna(model_year_mean)\n",
    "\n",
    "print(model_year_mean)\n",
    "\n",
    "print(df.isna().sum())\n"
   ]
  },
  {
   "cell_type": "markdown",
   "id": "1a32bfa5-2695-4a71-9e91-dbe6a4c9d60f",
   "metadata": {},
   "source": [
    "<div class=\"alert alert-info\">\n",
    "<div>\n",
    "    To fix the year column of the vehicle model, this is quantitative data whose values ​​are from 1908 to 2019. The average of the values ​​is: 2009.75046966977 and the median is 2010. So it is decided to fill in the spaces blank with the value 2010 representing the values ​​in the column\n",
    "</div>"
   ]
  },
  {
   "cell_type": "code",
   "execution_count": 64,
   "id": "54a13a17-a109-4306-bf83-95863e51bec1",
   "metadata": {},
   "outputs": [
    {
     "name": "stdout",
     "output_type": "stream",
     "text": [
      "6.0\n",
      "price           0\n",
      "model_year      0\n",
      "model           0\n",
      "condition       0\n",
      "cylinders       0\n",
      "fuel            0\n",
      "odometer        0\n",
      "transmission    0\n",
      "type            0\n",
      "paint_color     0\n",
      "is_4wd          0\n",
      "date_posted     0\n",
      "days_listed     0\n",
      "dtype: int64\n"
     ]
    }
   ],
   "source": [
    "cylinders_mean=df['cylinders'].median()\n",
    "df['cylinders']=df['cylinders'].fillna(cylinders_mean)\n",
    "\n",
    "print(cylinders_mean)\n",
    "\n",
    "print(df.isna().sum())"
   ]
  },
  {
   "cell_type": "markdown",
   "id": "363f0962-d3e0-46ba-ad13-3aace8caaf98",
   "metadata": {},
   "source": [
    "<div class=\"alert alert-info\">\n",
    "<div>\n",
    "    To fix the column of the number of cylinders, this is a quantitative data whose values ​​are from 3 to 12. The average of the values ​​is: 6.125235058899817 and the median is 6.0. Therefore, it is decided to fill the blank spaces with the value 6.0, which represents the values ​​in the column.\n",
    "</div>"
   ]
  },
  {
   "cell_type": "code",
   "execution_count": 75,
   "id": "f043b1fb-39ec-406a-89df-ec178a8354ed",
   "metadata": {},
   "outputs": [
    {
     "name": "stdout",
     "output_type": "stream",
     "text": [
      "113000.0\n",
      "price           0\n",
      "model_year      0\n",
      "model           0\n",
      "condition       0\n",
      "cylinders       0\n",
      "fuel            0\n",
      "odometer        0\n",
      "transmission    0\n",
      "type            0\n",
      "paint_color     0\n",
      "is_4wd          0\n",
      "date_posted     0\n",
      "days_listed     0\n",
      "dtype: int64\n"
     ]
    }
   ],
   "source": [
    "odometer_median=df['odometer'].median()\n",
    "df['odometer']=df['odometer'].fillna(odometer_median)\n",
    "\n",
    "print(odometer_median)\n",
    "\n",
    "print(df.isna().sum())\n"
   ]
  },
  {
   "cell_type": "markdown",
   "id": "241a0675-ea95-4427-824f-8ddba35733fa",
   "metadata": {},
   "source": [
    "<div class=\"alert alert-info\">\n",
    "<div>\n",
    "    To fix the odometer value column, this is a quantitative data whose values ​​are from 0 to 920000. The average of the values ​​is: 115162.3521785541 and the median is 113000.0. So it is decided to fill the blank spaces with the value 113000.0 since data has significant outliers\n",
    "</div>"
   ]
  },
  {
   "cell_type": "code",
   "execution_count": null,
   "id": "34a826e4-cd91-4f4c-a0e0-108aaa7f4f33",
   "metadata": {},
   "outputs": [],
   "source": [
    "df['paint_color']=df['paint_color'].fillna('unknown')\n"
   ]
  },
  {
   "cell_type": "markdown",
   "id": "953ac524-df61-4b01-bfed-12f67733f741",
   "metadata": {},
   "source": [
    "<div class=\"alert alert-info\">\n",
    "<div>\n",
    "The vehicle's external paint column corresponds to a categorical value, so the fillna method is used to replace the empty cells with the \"unknown\" value.\n",
    "</div>"
   ]
  },
  {
   "cell_type": "code",
   "execution_count": null,
   "id": "69564066-38fd-4413-9964-d34aef09839d",
   "metadata": {},
   "outputs": [],
   "source": [
    "df['is_4wd']=df['is_4wd'].fillna(1)\n",
    "print(df.isna().sum())"
   ]
  },
  {
   "cell_type": "markdown",
   "id": "cb72ea39-be15-4737-a89b-33417ef84cd4",
   "metadata": {},
   "source": [
    "<div class=\"alert alert-info\">\n",
    "<div>\n",
    "The is_4wd column of the vehicle corresponds to a categorical value, so the fillna method is used to replace the empty cells with the value 1\n",
    "</div>"
   ]
  },
  {
   "cell_type": "code",
   "execution_count": 36,
   "id": "8e2ff696-dc03-4f31-838d-95d109d8c4cb",
   "metadata": {},
   "outputs": [
    {
     "name": "stdout",
     "output_type": "stream",
     "text": [
      "0\n"
     ]
    }
   ],
   "source": [
    "print(df.duplicated().sum())"
   ]
  },
  {
   "cell_type": "markdown",
   "id": "c6025fdc-10f6-44e6-a4ea-37a289a1ca8a",
   "metadata": {},
   "source": [
    "<div class=\"alert alert-info\">\n",
    "<div>\n",
    "No duplicate values ​​were found in the dataframe\n",
    "</div>"
   ]
  },
  {
   "cell_type": "code",
   "execution_count": 84,
   "id": "a794a112-a37c-4ce3-a9a2-c982235dc67b",
   "metadata": {},
   "outputs": [
    {
     "name": "stdout",
     "output_type": "stream",
     "text": [
      "<class 'pandas.core.frame.DataFrame'>\n",
      "RangeIndex: 51525 entries, 0 to 51524\n",
      "Data columns (total 13 columns):\n",
      " #   Column        Non-Null Count  Dtype  \n",
      "---  ------        --------------  -----  \n",
      " 0   price         51525 non-null  int64  \n",
      " 1   model_year    51525 non-null  float64\n",
      " 2   model         51525 non-null  object \n",
      " 3   condition     51525 non-null  object \n",
      " 4   cylinders     51525 non-null  float64\n",
      " 5   fuel          51525 non-null  object \n",
      " 6   odometer      51525 non-null  float64\n",
      " 7   transmission  51525 non-null  object \n",
      " 8   type          51525 non-null  object \n",
      " 9   paint_color   51525 non-null  object \n",
      " 10  is_4wd        51525 non-null  float64\n",
      " 11  date_posted   51525 non-null  object \n",
      " 12  days_listed   51525 non-null  int64  \n",
      "dtypes: float64(4), int64(2), object(7)\n",
      "memory usage: 5.1+ MB\n"
     ]
    }
   ],
   "source": [
    "df.info()"
   ]
  },
  {
   "cell_type": "code",
   "execution_count": 114,
   "id": "a8301f6b-058c-4cd7-9b18-271f66c216d1",
   "metadata": {},
   "outputs": [
    {
     "name": "stdout",
     "output_type": "stream",
     "text": [
      "<class 'pandas.core.frame.DataFrame'>\n",
      "RangeIndex: 51525 entries, 0 to 51524\n",
      "Data columns (total 13 columns):\n",
      " #   Column        Non-Null Count  Dtype         \n",
      "---  ------        --------------  -----         \n",
      " 0   price         51525 non-null  int64         \n",
      " 1   model_year    51525 non-null  int64         \n",
      " 2   model         51525 non-null  object        \n",
      " 3   condition     51525 non-null  object        \n",
      " 4   cylinders     51525 non-null  int64         \n",
      " 5   fuel          51525 non-null  object        \n",
      " 6   odometer      51525 non-null  float64       \n",
      " 7   transmission  51525 non-null  object        \n",
      " 8   type          51525 non-null  object        \n",
      " 9   paint_color   51525 non-null  object        \n",
      " 10  is_4wd        51525 non-null  float64       \n",
      " 11  date_posted   51525 non-null  datetime64[ns]\n",
      " 12  days_listed   51525 non-null  int64         \n",
      "dtypes: datetime64[ns](1), float64(2), int64(4), object(6)\n",
      "memory usage: 5.1+ MB\n"
     ]
    },
    {
     "data": {
      "text/html": [
       "<div>\n",
       "<style scoped>\n",
       "    .dataframe tbody tr th:only-of-type {\n",
       "        vertical-align: middle;\n",
       "    }\n",
       "\n",
       "    .dataframe tbody tr th {\n",
       "        vertical-align: top;\n",
       "    }\n",
       "\n",
       "    .dataframe thead th {\n",
       "        text-align: right;\n",
       "    }\n",
       "</style>\n",
       "<table border=\"1\" class=\"dataframe\">\n",
       "  <thead>\n",
       "    <tr style=\"text-align: right;\">\n",
       "      <th></th>\n",
       "      <th>price</th>\n",
       "      <th>model_year</th>\n",
       "      <th>model</th>\n",
       "      <th>condition</th>\n",
       "      <th>cylinders</th>\n",
       "      <th>fuel</th>\n",
       "      <th>odometer</th>\n",
       "      <th>transmission</th>\n",
       "      <th>type</th>\n",
       "      <th>paint_color</th>\n",
       "      <th>is_4wd</th>\n",
       "      <th>date_posted</th>\n",
       "      <th>days_listed</th>\n",
       "    </tr>\n",
       "  </thead>\n",
       "  <tbody>\n",
       "    <tr>\n",
       "      <th>0</th>\n",
       "      <td>9400</td>\n",
       "      <td>2011</td>\n",
       "      <td>bmw x5</td>\n",
       "      <td>good</td>\n",
       "      <td>6</td>\n",
       "      <td>gas</td>\n",
       "      <td>145000.0</td>\n",
       "      <td>automatic</td>\n",
       "      <td>SUV</td>\n",
       "      <td>unknown</td>\n",
       "      <td>1.0</td>\n",
       "      <td>2018-06-23</td>\n",
       "      <td>19</td>\n",
       "    </tr>\n",
       "    <tr>\n",
       "      <th>1</th>\n",
       "      <td>25500</td>\n",
       "      <td>2009</td>\n",
       "      <td>ford f-150</td>\n",
       "      <td>good</td>\n",
       "      <td>6</td>\n",
       "      <td>gas</td>\n",
       "      <td>88705.0</td>\n",
       "      <td>automatic</td>\n",
       "      <td>pickup</td>\n",
       "      <td>white</td>\n",
       "      <td>1.0</td>\n",
       "      <td>2018-10-19</td>\n",
       "      <td>50</td>\n",
       "    </tr>\n",
       "    <tr>\n",
       "      <th>2</th>\n",
       "      <td>5500</td>\n",
       "      <td>2013</td>\n",
       "      <td>hyundai sonata</td>\n",
       "      <td>like new</td>\n",
       "      <td>4</td>\n",
       "      <td>gas</td>\n",
       "      <td>110000.0</td>\n",
       "      <td>automatic</td>\n",
       "      <td>sedan</td>\n",
       "      <td>red</td>\n",
       "      <td>1.0</td>\n",
       "      <td>2019-02-07</td>\n",
       "      <td>79</td>\n",
       "    </tr>\n",
       "    <tr>\n",
       "      <th>3</th>\n",
       "      <td>1500</td>\n",
       "      <td>2003</td>\n",
       "      <td>ford f-150</td>\n",
       "      <td>fair</td>\n",
       "      <td>8</td>\n",
       "      <td>gas</td>\n",
       "      <td>113000.0</td>\n",
       "      <td>automatic</td>\n",
       "      <td>pickup</td>\n",
       "      <td>unknown</td>\n",
       "      <td>1.0</td>\n",
       "      <td>2019-03-22</td>\n",
       "      <td>9</td>\n",
       "    </tr>\n",
       "    <tr>\n",
       "      <th>4</th>\n",
       "      <td>14900</td>\n",
       "      <td>2017</td>\n",
       "      <td>chrysler 200</td>\n",
       "      <td>excellent</td>\n",
       "      <td>4</td>\n",
       "      <td>gas</td>\n",
       "      <td>80903.0</td>\n",
       "      <td>automatic</td>\n",
       "      <td>sedan</td>\n",
       "      <td>black</td>\n",
       "      <td>1.0</td>\n",
       "      <td>2019-04-02</td>\n",
       "      <td>28</td>\n",
       "    </tr>\n",
       "  </tbody>\n",
       "</table>\n",
       "</div>"
      ],
      "text/plain": [
       "   price  model_year           model  condition  cylinders fuel  odometer  \\\n",
       "0   9400        2011          bmw x5       good          6  gas  145000.0   \n",
       "1  25500        2009      ford f-150       good          6  gas   88705.0   \n",
       "2   5500        2013  hyundai sonata   like new          4  gas  110000.0   \n",
       "3   1500        2003      ford f-150       fair          8  gas  113000.0   \n",
       "4  14900        2017    chrysler 200  excellent          4  gas   80903.0   \n",
       "\n",
       "  transmission    type paint_color  is_4wd date_posted  days_listed  \n",
       "0    automatic     SUV     unknown     1.0  2018-06-23           19  \n",
       "1    automatic  pickup       white     1.0  2018-10-19           50  \n",
       "2    automatic   sedan         red     1.0  2019-02-07           79  \n",
       "3    automatic  pickup     unknown     1.0  2019-03-22            9  \n",
       "4    automatic   sedan       black     1.0  2019-04-02           28  "
      ]
     },
     "execution_count": 114,
     "metadata": {},
     "output_type": "execute_result"
    }
   ],
   "source": [
    "df['model_year']=df['model_year'].astype('int64')\n",
    "df['cylinders']=df['cylinders'].astype('int64')\n",
    "df['date_posted']=pd.to_datetime(df['date_posted'],format='%Y-%m-%d')\n",
    "df.info()\n",
    "df.head()"
   ]
  },
  {
   "cell_type": "markdown",
   "id": "a4749e7d-cc70-4cc6-8442-642d8868f8f2",
   "metadata": {},
   "source": [
    "<div class=\"alert alert-info\">\n",
    "<div>\n",
    "    In order to fix the data type with the concept corresponding to each column, the following columns will be changed\n",
    "</div>\n",
    "<li>The vehicle model year corresponds to a type int 64</li>\n",
    "<li>The cylinders number corresponds to a type int 64</li>\n",
    "<li>The date posted corresponds to a type datetime</li>\n",
    "\n"
   ]
  },
  {
   "cell_type": "markdown",
   "id": "ee3c5808-daf8-4dac-8811-ef61e9bc8c34",
   "metadata": {},
   "source": [
    "<div class=\"alert alert-info\">\n",
    "<h2>Conclusion</h2>\n",
    " <div>\n",
    "    The dataframe corresponds to a large amount of data of which the is_4wd column was the one with the most empty data with 50% of the data value, however the remaining 50% corresponds to the value of 1 so a value of 1 was inferred. 1 for missing data.\n",
    "The exterior paint column does not have a major impact on the data analysis so filling in missing values ​​with the word \"unknown\" is appropriate.\n",
    "For values ​​such as the model year, the number of cylinders and the odometer, basic statistics were applied to complete the missing values ​​with the mean or median since these correspond to quantitative data.\n",
    "\n",
    "</div>"
   ]
  },
  {
   "cell_type": "code",
   "execution_count": null,
   "id": "4eafc7de-1535-4d78-a2f5-7acb13870941",
   "metadata": {},
   "outputs": [],
   "source": []
  }
 ],
 "metadata": {
  "kernelspec": {
   "display_name": "Python 3 (ipykernel)",
   "language": "python",
   "name": "python3"
  },
  "language_info": {
   "codemirror_mode": {
    "name": "ipython",
    "version": 3
   },
   "file_extension": ".py",
   "mimetype": "text/x-python",
   "name": "python",
   "nbconvert_exporter": "python",
   "pygments_lexer": "ipython3",
   "version": "3.11.7"
  }
 },
 "nbformat": 4,
 "nbformat_minor": 5
}
